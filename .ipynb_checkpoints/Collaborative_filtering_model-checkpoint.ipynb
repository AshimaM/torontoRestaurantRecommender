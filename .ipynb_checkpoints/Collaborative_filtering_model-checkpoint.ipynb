{
 "cells": [
  {
   "cell_type": "markdown",
   "metadata": {},
   "source": [
    "# Collaborative filtering model\n",
    "\n",
    "This model exploits the similarities between the preferences of the users and the past ratings given by a user to generate recommendations. "
   ]
  },
  {
   "cell_type": "code",
   "execution_count": 12,
   "metadata": {},
   "outputs": [],
   "source": [
    "# Importing important libraries\n",
    "import pandas as pd\n",
    "import numpy as np\n",
    "\n",
    "from surprise import NormalPredictor\n",
    "from surprise import Dataset\n",
    "from surprise import Reader\n",
    "from surprise.model_selection import cross_validate\n",
    "\n",
    "from surprise import SVD\n",
    "from surprise import accuracy\n",
    "from surprise.model_selection import KFold\n",
    "\n",
    "pd.set_option('max_columns', 3000)\n",
    "pd.set_option('max_rows', 3000)"
   ]
  },
  {
   "cell_type": "code",
   "execution_count": 4,
   "metadata": {},
   "outputs": [],
   "source": [
    "# Importing the dataset\n",
    "\n",
    "df = pd.read_csv('final_dataset.csv')"
   ]
  },
  {
   "cell_type": "code",
   "execution_count": 5,
   "metadata": {},
   "outputs": [
    {
     "data": {
      "text/plain": [
       "(313223, 10)"
      ]
     },
     "execution_count": 5,
     "metadata": {},
     "output_type": "execute_result"
    }
   ],
   "source": [
    "# Checking the number of rows and columns\n",
    "\n",
    "df.shape"
   ]
  },
  {
   "cell_type": "code",
   "execution_count": 6,
   "metadata": {},
   "outputs": [
    {
     "data": {
      "text/html": [
       "<div>\n",
       "<style scoped>\n",
       "    .dataframe tbody tr th:only-of-type {\n",
       "        vertical-align: middle;\n",
       "    }\n",
       "\n",
       "    .dataframe tbody tr th {\n",
       "        vertical-align: top;\n",
       "    }\n",
       "\n",
       "    .dataframe thead th {\n",
       "        text-align: right;\n",
       "    }\n",
       "</style>\n",
       "<table border=\"1\" class=\"dataframe\">\n",
       "  <thead>\n",
       "    <tr style=\"text-align: right;\">\n",
       "      <th></th>\n",
       "      <th>business_id</th>\n",
       "      <th>categories</th>\n",
       "      <th>latitude</th>\n",
       "      <th>longitude</th>\n",
       "      <th>restaurant_name</th>\n",
       "      <th>review_count</th>\n",
       "      <th>avg_rating</th>\n",
       "      <th>user_rating</th>\n",
       "      <th>review</th>\n",
       "      <th>user_id</th>\n",
       "    </tr>\n",
       "  </thead>\n",
       "  <tbody>\n",
       "    <tr>\n",
       "      <th>0</th>\n",
       "      <td>C9oCPomVP0mtKa8z99E3gg</td>\n",
       "      <td>Bakeries, Food</td>\n",
       "      <td>43.754093</td>\n",
       "      <td>-79.349548</td>\n",
       "      <td>Bakery Gateau</td>\n",
       "      <td>8</td>\n",
       "      <td>4.5</td>\n",
       "      <td>3.0</td>\n",
       "      <td>Oh? Another patbingsu review? This one was bet...</td>\n",
       "      <td>orh0HRUNCWuQMt9Iia_osg</td>\n",
       "    </tr>\n",
       "    <tr>\n",
       "      <th>1</th>\n",
       "      <td>C9oCPomVP0mtKa8z99E3gg</td>\n",
       "      <td>Bakeries, Food</td>\n",
       "      <td>43.754093</td>\n",
       "      <td>-79.349548</td>\n",
       "      <td>Bakery Gateau</td>\n",
       "      <td>8</td>\n",
       "      <td>4.5</td>\n",
       "      <td>5.0</td>\n",
       "      <td>What really earns them their 5 stars is the un...</td>\n",
       "      <td>G5hDXvDMNuQ3JQnGCKqsKA</td>\n",
       "    </tr>\n",
       "    <tr>\n",
       "      <th>2</th>\n",
       "      <td>C9oCPomVP0mtKa8z99E3gg</td>\n",
       "      <td>Bakeries, Food</td>\n",
       "      <td>43.754093</td>\n",
       "      <td>-79.349548</td>\n",
       "      <td>Bakery Gateau</td>\n",
       "      <td>8</td>\n",
       "      <td>4.5</td>\n",
       "      <td>4.0</td>\n",
       "      <td>Located inside the Galleria Supermarket.\\nStop...</td>\n",
       "      <td>0Suzo_S25mTGJfrlcl1CfA</td>\n",
       "    </tr>\n",
       "    <tr>\n",
       "      <th>3</th>\n",
       "      <td>C9oCPomVP0mtKa8z99E3gg</td>\n",
       "      <td>Bakeries, Food</td>\n",
       "      <td>43.754093</td>\n",
       "      <td>-79.349548</td>\n",
       "      <td>Bakery Gateau</td>\n",
       "      <td>8</td>\n",
       "      <td>4.5</td>\n",
       "      <td>5.0</td>\n",
       "      <td>Yummy cakes! U should try their sweet potato c...</td>\n",
       "      <td>cc7Pav2IUvAkVeqylvAsYg</td>\n",
       "    </tr>\n",
       "    <tr>\n",
       "      <th>4</th>\n",
       "      <td>C9oCPomVP0mtKa8z99E3gg</td>\n",
       "      <td>Bakeries, Food</td>\n",
       "      <td>43.754093</td>\n",
       "      <td>-79.349548</td>\n",
       "      <td>Bakery Gateau</td>\n",
       "      <td>8</td>\n",
       "      <td>4.5</td>\n",
       "      <td>5.0</td>\n",
       "      <td>One of my favorite bakeries! This bakery is in...</td>\n",
       "      <td>keLUgL_4y60BkppiAsIk8Q</td>\n",
       "    </tr>\n",
       "  </tbody>\n",
       "</table>\n",
       "</div>"
      ],
      "text/plain": [
       "              business_id      categories   latitude  longitude  \\\n",
       "0  C9oCPomVP0mtKa8z99E3gg  Bakeries, Food  43.754093 -79.349548   \n",
       "1  C9oCPomVP0mtKa8z99E3gg  Bakeries, Food  43.754093 -79.349548   \n",
       "2  C9oCPomVP0mtKa8z99E3gg  Bakeries, Food  43.754093 -79.349548   \n",
       "3  C9oCPomVP0mtKa8z99E3gg  Bakeries, Food  43.754093 -79.349548   \n",
       "4  C9oCPomVP0mtKa8z99E3gg  Bakeries, Food  43.754093 -79.349548   \n",
       "\n",
       "  restaurant_name  review_count  avg_rating  user_rating  \\\n",
       "0   Bakery Gateau             8         4.5          3.0   \n",
       "1   Bakery Gateau             8         4.5          5.0   \n",
       "2   Bakery Gateau             8         4.5          4.0   \n",
       "3   Bakery Gateau             8         4.5          5.0   \n",
       "4   Bakery Gateau             8         4.5          5.0   \n",
       "\n",
       "                                              review                 user_id  \n",
       "0  Oh? Another patbingsu review? This one was bet...  orh0HRUNCWuQMt9Iia_osg  \n",
       "1  What really earns them their 5 stars is the un...  G5hDXvDMNuQ3JQnGCKqsKA  \n",
       "2  Located inside the Galleria Supermarket.\\nStop...  0Suzo_S25mTGJfrlcl1CfA  \n",
       "3  Yummy cakes! U should try their sweet potato c...  cc7Pav2IUvAkVeqylvAsYg  \n",
       "4  One of my favorite bakeries! This bakery is in...  keLUgL_4y60BkppiAsIk8Q  "
      ]
     },
     "execution_count": 6,
     "metadata": {},
     "output_type": "execute_result"
    }
   ],
   "source": [
    "# Peeking into the dataset\n",
    "\n",
    "df.head()"
   ]
  },
  {
   "cell_type": "code",
   "execution_count": 87,
   "metadata": {},
   "outputs": [],
   "source": [
    "# Helper dataframe to get the name of the restaurants later for generating recommendations\n",
    "\n",
    "df_restaurant = df[['business_id','restaurant_name']]\n",
    "\n",
    "df_restaurant_name = df_restaurant.groupby('business_id').nth([0]).reset_index() "
   ]
  },
  {
   "cell_type": "markdown",
   "metadata": {},
   "source": [
    "For creating this recommendation system, I used a Scikit-learn library called Surprise. This library helps to build and analyze recommender systems that deal with rating data. \n",
    "\n",
    "In case of recommendations, it is hard to evaluate accuracy because we don’t have the actual ratings against which we can compare our predictions. However, Surprise has built-in features that help to calculate the accuracy of various machine learning models, and thus helps to optimize the hyperparameters of a model and build a more efficient system. "
   ]
  },
  {
   "cell_type": "code",
   "execution_count": 8,
   "metadata": {},
   "outputs": [],
   "source": [
    "# For building this model, I will need only the user_id, business_id and the user_rating \n",
    "\n",
    "# Creating the required dataframe\n",
    "\n",
    "model_df = pd.DataFrame({'restaurant': df['business_id'], 'user_id':df['user_id'], 'rating':df['user_rating']})"
   ]
  },
  {
   "cell_type": "code",
   "execution_count": 9,
   "metadata": {},
   "outputs": [
    {
     "data": {
      "text/html": [
       "<div>\n",
       "<style scoped>\n",
       "    .dataframe tbody tr th:only-of-type {\n",
       "        vertical-align: middle;\n",
       "    }\n",
       "\n",
       "    .dataframe tbody tr th {\n",
       "        vertical-align: top;\n",
       "    }\n",
       "\n",
       "    .dataframe thead th {\n",
       "        text-align: right;\n",
       "    }\n",
       "</style>\n",
       "<table border=\"1\" class=\"dataframe\">\n",
       "  <thead>\n",
       "    <tr style=\"text-align: right;\">\n",
       "      <th></th>\n",
       "      <th>restaurant</th>\n",
       "      <th>user_id</th>\n",
       "      <th>rating</th>\n",
       "    </tr>\n",
       "  </thead>\n",
       "  <tbody>\n",
       "    <tr>\n",
       "      <th>0</th>\n",
       "      <td>C9oCPomVP0mtKa8z99E3gg</td>\n",
       "      <td>orh0HRUNCWuQMt9Iia_osg</td>\n",
       "      <td>3.0</td>\n",
       "    </tr>\n",
       "    <tr>\n",
       "      <th>1</th>\n",
       "      <td>C9oCPomVP0mtKa8z99E3gg</td>\n",
       "      <td>G5hDXvDMNuQ3JQnGCKqsKA</td>\n",
       "      <td>5.0</td>\n",
       "    </tr>\n",
       "    <tr>\n",
       "      <th>2</th>\n",
       "      <td>C9oCPomVP0mtKa8z99E3gg</td>\n",
       "      <td>0Suzo_S25mTGJfrlcl1CfA</td>\n",
       "      <td>4.0</td>\n",
       "    </tr>\n",
       "    <tr>\n",
       "      <th>3</th>\n",
       "      <td>C9oCPomVP0mtKa8z99E3gg</td>\n",
       "      <td>cc7Pav2IUvAkVeqylvAsYg</td>\n",
       "      <td>5.0</td>\n",
       "    </tr>\n",
       "    <tr>\n",
       "      <th>4</th>\n",
       "      <td>C9oCPomVP0mtKa8z99E3gg</td>\n",
       "      <td>keLUgL_4y60BkppiAsIk8Q</td>\n",
       "      <td>5.0</td>\n",
       "    </tr>\n",
       "  </tbody>\n",
       "</table>\n",
       "</div>"
      ],
      "text/plain": [
       "               restaurant                 user_id  rating\n",
       "0  C9oCPomVP0mtKa8z99E3gg  orh0HRUNCWuQMt9Iia_osg     3.0\n",
       "1  C9oCPomVP0mtKa8z99E3gg  G5hDXvDMNuQ3JQnGCKqsKA     5.0\n",
       "2  C9oCPomVP0mtKa8z99E3gg  0Suzo_S25mTGJfrlcl1CfA     4.0\n",
       "3  C9oCPomVP0mtKa8z99E3gg  cc7Pav2IUvAkVeqylvAsYg     5.0\n",
       "4  C9oCPomVP0mtKa8z99E3gg  keLUgL_4y60BkppiAsIk8Q     5.0"
      ]
     },
     "execution_count": 9,
     "metadata": {},
     "output_type": "execute_result"
    }
   ],
   "source": [
    "# Checking the dataframe\n",
    "\n",
    "model_df.head()"
   ]
  },
  {
   "cell_type": "code",
   "execution_count": 10,
   "metadata": {
    "scrolled": true
   },
   "outputs": [
    {
     "data": {
      "text/plain": [
       "(313223, 3)"
      ]
     },
     "execution_count": 10,
     "metadata": {},
     "output_type": "execute_result"
    }
   ],
   "source": [
    "# Checking the shape of the dataframe\n",
    "\n",
    "model_df.shape"
   ]
  },
  {
   "cell_type": "code",
   "execution_count": 13,
   "metadata": {},
   "outputs": [],
   "source": [
    "# A reader which is the rating scale is needed to load the dataset\n",
    "\n",
    "# Defining the reader\n",
    "reader = Reader(rating_scale=(1, 5))\n",
    "\n",
    "# The columns must correspond to user id, item id and ratings (in that order).\n",
    "# Loading the dataframe and reader in the required format\n",
    "data = Dataset.load_from_df(model_df[['user_id', 'restaurant', 'rating']], reader)"
   ]
  },
  {
   "cell_type": "code",
   "execution_count": 14,
   "metadata": {
    "scrolled": true
   },
   "outputs": [
    {
     "data": {
      "text/plain": [
       "<surprise.dataset.DatasetAutoFolds at 0x1172ca5f8>"
      ]
     },
     "execution_count": 14,
     "metadata": {},
     "output_type": "execute_result"
    }
   ],
   "source": [
    "# Checking the data\n",
    "\n",
    "data"
   ]
  },
  {
   "cell_type": "markdown",
   "metadata": {},
   "source": [
    "It is a surprise dataset. First I'll fit a baseline model which predicts the ratings assuming they are normally distributed. Then I'll fit a Singular Value Decomposition model (SVD). This model breaks down the sparse user-item rating matrix into two smaller matrices containing user and item features. It then predicts the ratings based on the dot product of these two matrices. \n",
    "\n",
    "As the dataset is sparse and splitting into test and train sets will require that the dataset be split so that we have similar users in both the sets. Since, it will be difficult with this dataset, I am using the built in five-fold cross validation function to optimize the hyperparameters."
   ]
  },
  {
   "cell_type": "code",
   "execution_count": 55,
   "metadata": {},
   "outputs": [
    {
     "data": {
      "text/plain": [
       "{'test_rmse': array([1.66529485, 1.66328004, 1.6652706 , 1.6797694 , 1.67259327]),\n",
       " 'test_mae': array([1.32784114, 1.32675096, 1.33037977, 1.34094351, 1.33645301]),\n",
       " 'fit_time': (0.4247579574584961,\n",
       "  0.5753319263458252,\n",
       "  0.6054520606994629,\n",
       "  0.5893511772155762,\n",
       "  0.5911149978637695),\n",
       " 'test_time': (0.7982769012451172,\n",
       "  0.7326300144195557,\n",
       "  0.7411220073699951,\n",
       "  0.7073042392730713,\n",
       "  0.8087201118469238)}"
      ]
     },
     "execution_count": 55,
     "metadata": {},
     "output_type": "execute_result"
    }
   ],
   "source": [
    "# Using Baseline model to predict the ratings\n",
    "\n",
    "cross_validate(NormalPredictor(), data, cv=5)"
   ]
  },
  {
   "cell_type": "markdown",
   "metadata": {},
   "source": [
    "The RMSE error is coming out to be around 1.66.  I will nw try to ft the SVD parameter and minimize this error."
   ]
  },
  {
   "cell_type": "code",
   "execution_count": 53,
   "metadata": {},
   "outputs": [
    {
     "name": "stdout",
     "output_type": "stream",
     "text": [
      "RMSE: 1.1579\n",
      "RMSE: 1.1555\n",
      "RMSE: 1.1608\n"
     ]
    }
   ],
   "source": [
    "# Fitting a vanilla SVD model \n",
    "\n",
    "# defining a cross-validation iterator\n",
    "kf = KFold(n_splits=3)\n",
    "\n",
    "# Instantiating the model\n",
    "algo = SVD()\n",
    "\n",
    "for trainset, testset in kf.split(data):\n",
    "\n",
    "    # Fitting the model\n",
    "    algo.fit(trainset)\n",
    "    predictions = algo.test(testset)\n",
    "\n",
    "    # Compute and print Root Mean Squared Error\n",
    "    accuracy.rmse(predictions, verbose=True)"
   ]
  },
  {
   "cell_type": "markdown",
   "metadata": {},
   "source": [
    "Now, I will be using grid search to finetune the hyperparameters and minimize the error term using stochastic gradient descent algorithm:\n",
    "\n",
    "- n_epochs: number of epochs\n",
    "- lr_all : learning rate for all the features\n",
    "- reg_all: regularization factor for all the features\n",
    "- n_factors: Number of user and restaurant features"
   ]
  },
  {
   "cell_type": "code",
   "execution_count": 54,
   "metadata": {},
   "outputs": [
    {
     "name": "stdout",
     "output_type": "stream",
     "text": [
      "1.1599020945200833\n",
      "{'n_epochs': 10, 'lr_all': 0.005, 'reg_all': 0.4}\n"
     ]
    }
   ],
   "source": [
    "from surprise.model_selection import GridSearchCV\n",
    "\n",
    "\n",
    "param_grid = {'n_epochs': [5, 10], 'lr_all': [0.002, 0.005],\n",
    "              'reg_all': [0.4, 0.6]}\n",
    "gs = GridSearchCV(SVD, param_grid, measures=['rmse', 'mae'], cv=3)\n",
    "\n",
    "gs.fit(data)\n",
    "\n",
    "# best RMSE score\n",
    "print(gs.best_score['rmse'])\n",
    "\n",
    "# combination of parameters that gave the best RMSE score\n",
    "print(gs.best_params['rmse'])"
   ]
  },
  {
   "cell_type": "code",
   "execution_count": 55,
   "metadata": {},
   "outputs": [
    {
     "name": "stdout",
     "output_type": "stream",
     "text": [
      "1.1435678764444355\n",
      "{'n_epochs': 20, 'lr_all': 0.007, 'reg_all': 0.2}\n"
     ]
    }
   ],
   "source": [
    "param_grid2 = {'n_epochs': [10, 20], 'lr_all': [0.005, 0.007],\n",
    "              'reg_all': [0.2, 0.4]}\n",
    "gs2 = GridSearchCV(SVD, param_grid2, measures=['rmse', 'mae'], cv=5)\n",
    "\n",
    "gs2.fit(data)\n",
    "\n",
    "# best RMSE score\n",
    "print(gs2.best_score['rmse'])\n",
    "\n",
    "# combination of parameters that gave the best RMSE score\n",
    "print(gs2.best_params['rmse'])"
   ]
  },
  {
   "cell_type": "code",
   "execution_count": 56,
   "metadata": {},
   "outputs": [
    {
     "name": "stdout",
     "output_type": "stream",
     "text": [
      "1.1433409049700305\n",
      "{'n_epochs': 30, 'lr_all': 0.005, 'reg_all': 0.2}\n"
     ]
    }
   ],
   "source": [
    "param_grid3 = {'n_epochs': [30, 40], 'lr_all': [0.005, 0.007],\n",
    "              'reg_all': [0.1, 0.2]}\n",
    "gs3 = GridSearchCV(SVD, param_grid3, measures=['rmse', 'mae'], cv=5)\n",
    "\n",
    "gs3.fit(data)\n",
    "\n",
    "# best RMSE score\n",
    "print(gs3.best_score['rmse'])\n",
    "\n",
    "# combination of parameters that gave the best RMSE score\n",
    "print(gs3.best_params['rmse'])"
   ]
  },
  {
   "cell_type": "code",
   "execution_count": 58,
   "metadata": {},
   "outputs": [
    {
     "name": "stdout",
     "output_type": "stream",
     "text": [
      "1.1439156558651953\n",
      "{'n_factors': 150, 'n_epochs': 50, 'lr_all': 0.005, 'reg_all': 0.2}\n"
     ]
    }
   ],
   "source": [
    "param_grid4 = {'n_factors': [50,100,150], 'n_epochs': [50, 70], 'lr_all': [0.005, 0.007],\n",
    "              'reg_all': [0.1, 0.2, 0.3]}\n",
    "\n",
    "gs4 = GridSearchCV(SVD, param_grid4, measures=['rmse', 'mae'], cv=5)\n",
    "\n",
    "gs4.fit(data)\n",
    "\n",
    "# best RMSE score\n",
    "print(gs4.best_score['rmse'])\n",
    "\n",
    "# combination of parameters that gave the best RMSE score\n",
    "print(gs4.best_params['rmse'])"
   ]
  },
  {
   "cell_type": "code",
   "execution_count": 60,
   "metadata": {},
   "outputs": [
    {
     "name": "stdout",
     "output_type": "stream",
     "text": [
      "1.143351304118016\n",
      "{'n_factors': 200, 'n_epochs': 50, 'lr_all': 0.005, 'reg_all': 0.2}\n"
     ]
    }
   ],
   "source": [
    "param_grid5 = {'n_factors': [150, 200], 'n_epochs': [50, 70], 'lr_all': [0.005, 0.007],\n",
    "              'reg_all': [0.2, 0.3]}\n",
    "\n",
    "gs5 = GridSearchCV(SVD, param_grid5, measures=['rmse', 'mae'], cv=5)\n",
    "\n",
    "gs5.fit(data)\n",
    "\n",
    "# best RMSE score\n",
    "print(gs5.best_score['rmse'])\n",
    "\n",
    "# combination of parameters that gave the best RMSE score\n",
    "print(gs5.best_params['rmse'])"
   ]
  },
  {
   "cell_type": "markdown",
   "metadata": {},
   "source": [
    "Based on the above I will be using model 3 to build the model beacuse we culd get the lowest RMSE that too with 100 features."
   ]
  },
  {
   "cell_type": "code",
   "execution_count": 17,
   "metadata": {},
   "outputs": [
    {
     "data": {
      "text/plain": [
       "<surprise.prediction_algorithms.matrix_factorization.SVD at 0x105ae4b70>"
      ]
     },
     "execution_count": 17,
     "metadata": {},
     "output_type": "execute_result"
    }
   ],
   "source": [
    "# Loading the full dataset now\n",
    "trainset = data.build_full_trainset()\n",
    "\n",
    "# Instantiating the model\n",
    "model = SVD(n_epochs = 30, lr_all = 0.005, reg_all = 0.2)\n",
    "\n",
    "# Fitting the model on the complete dataset\n",
    "model.fit(trainset)"
   ]
  },
  {
   "cell_type": "markdown",
   "metadata": {},
   "source": [
    "#### Creating the recommendation function "
   ]
  },
  {
   "cell_type": "code",
   "execution_count": 103,
   "metadata": {},
   "outputs": [],
   "source": [
    "def collaborative_fitering(user_id):\n",
    "    \n",
    "    '''\n",
    "    The function provides a list of five recommendations for the restauranst\n",
    "    \n",
    "    input: user_id\n",
    "    \n",
    "    output: a list of five recommended restaurants that the user has not rated\n",
    "    \n",
    "    '''\n",
    "\n",
    "    # Get a list of all the restaurant ids\n",
    "    restaurants = model_df['restaurant'].unique()\n",
    "\n",
    "    # Get a list of restaurants that user has not rated\n",
    "    not_rated = model_df.loc[model_df['user_id']== user_id, 'restaurant']\n",
    "\n",
    "    #Remove the list of restaurants that user has rated\n",
    "    iids_to_predict = np.setdiff1d(restaurants, not_rated)\n",
    "    \n",
    "    # Creating a test_set to put in the model to make predictions\n",
    "    test_set = [[user_id, iid, 4] for iid in iids_to_predict]\n",
    "    \n",
    "    # Fitting the model to make predictions for the ratings\n",
    "    predictions = model.test(test_set)\n",
    "    \n",
    "    # Creating an array of the predictions\n",
    "    pred_ratings = np.array([pred.est for pred in predictions])\n",
    "    \n",
    "    # Getting the restaurant_ids with highest predicted ratings for the user\n",
    "    i_max = pred_ratings.argsort()[-5:][::-1]\n",
    "    iid = iids_to_predict[i_max]\n",
    "    \n",
    "    # Getting the names of the recommended restaurants from the helper dataframe\n",
    "    recommended_restaurants = [(df_restaurant_name[df_restaurant_name['business_id'] == restaurant_id]['restaurant_name']) for restaurant_id in iid]\n",
    "    \n",
    "    print('Recommended restaurants:')\n",
    "    print(recommended_restaurants)"
   ]
  },
  {
   "cell_type": "code",
   "execution_count": 111,
   "metadata": {},
   "outputs": [
    {
     "name": "stdout",
     "output_type": "stream",
     "text": [
      "Recommended restaurants:\n",
      "[1725    Zeal Burgers\n",
      "Name: restaurant_name, dtype: object, 3300    Mallo\n",
      "Name: restaurant_name, dtype: object, 3783    Baretto Caffe\n",
      "Name: restaurant_name, dtype: object, 2120    Viva Shawarma\n",
      "Name: restaurant_name, dtype: object, 4004    Kiyo\n",
      "Name: restaurant_name, dtype: object]\n"
     ]
    }
   ],
   "source": [
    "collaborative_fitering('C9oCPomVP0mtKa8z99E3gg')"
   ]
  },
  {
   "cell_type": "markdown",
   "metadata": {},
   "source": [
    "The collaborative filtering model while taking into account user preferences, suffers from the cold-start problem (it needs user ratings to generate recommendations)."
   ]
  }
 ],
 "metadata": {
  "kernelspec": {
   "display_name": "Python 3",
   "language": "python",
   "name": "python3"
  },
  "language_info": {
   "codemirror_mode": {
    "name": "ipython",
    "version": 3
   },
   "file_extension": ".py",
   "mimetype": "text/x-python",
   "name": "python",
   "nbconvert_exporter": "python",
   "pygments_lexer": "ipython3",
   "version": "3.7.3"
  }
 },
 "nbformat": 4,
 "nbformat_minor": 2
}
